{
 "cells": [
  {
   "cell_type": "markdown",
   "metadata": {},
   "source": [
    "___\n",
    "\n",
    "<p style=\"text-align: center;\"><img src=\"https://docs.google.com/uc?id=1lY0Uj5R04yMY3-ZppPWxqCr5pvBLYPnV\" class=\"img-fluid\" alt=\"CLRSWY\"></p>\n",
    "\n",
    "___"
   ]
  },
  {
   "cell_type": "markdown",
   "metadata": {},
   "source": [
    "<h1 style=\"text-align: center;\">Deep Learning<br><br>Assignment-2 (CNN)<br><br>Image Classification with CNN<br><h1>"
   ]
  },
  {
   "cell_type": "markdown",
   "metadata": {},
   "source": [
    "# Task and Dataset Info\n",
    "\n",
    "Welcome to second assignment of Deep learning lesson. Follow the instructions and complete the assignment.\n",
    "\n",
    "**Build an image classifier with Convolutional Neural Networks for the Fashion MNIST dataset. This data set includes 10 labels of different clothing types with 28 by 28 *grayscale* images. There is a training set of 60,000 images and 10,000 test images.**\n",
    "\n",
    "    Label\tDescription\n",
    "    0\t    T-shirt/top\n",
    "    1\t    Trouser\n",
    "    2\t    Pullover\n",
    "    3\t    Dress\n",
    "    4\t    Coat\n",
    "    5\t    Sandal\n",
    "    6\t    Shirt\n",
    "    7\t    Sneaker\n",
    "    8\t    Bag\n",
    "    9\t    Ankle boot"
   ]
  },
  {
   "cell_type": "markdown",
   "metadata": {},
   "source": [
    "# Import Libraries"
   ]
  },
  {
   "cell_type": "code",
   "execution_count": 1,
   "metadata": {
    "scrolled": false
   },
   "outputs": [],
   "source": [
    "import matplotlib.pyplot as plt\n",
    "import seaborn as sns\n",
    "from mlxtend.plotting import plot_confusion_matrix\n",
    "import numpy as np\n",
    "import pandas as pd\n",
    "import tensorflow as tf\n",
    "from tensorflow.keras.datasets import fashion_mnist\n",
    "from tensorflow.keras.models import Sequential\n",
    "from tensorflow.keras.utils import to_categorical\n",
    "from tensorflow.keras.layers import Dense, Conv2D, MaxPool2D, Flatten, Dropout, BatchNormalization\n",
    "from tensorflow.keras.callbacks import EarlyStopping\n",
    "from sklearn.model_selection import train_test_split\n",
    "from sklearn.metrics import accuracy_score, confusion_matrix, classification_report, ConfusionMatrixDisplay\n",
    "from sklearn.metrics import roc_curve, auc\n",
    "from sklearn.metrics import precision_score, recall_score, accuracy_score, f1_score\n",
    "from tensorflow.keras.optimizers import Adam, Adadelta, RMSprop, Nadam\n",
    "import optuna\n",
    "import pickle\n",
    "from tensorflow.keras.models import load_model"
   ]
  },
  {
   "cell_type": "markdown",
   "metadata": {},
   "source": [
    "# Recognizing and Understanding Data\n",
    "\n",
    "**TASK 1: Run the code below to download the dataset using Keras.**"
   ]
  },
  {
   "cell_type": "code",
   "execution_count": 2,
   "metadata": {},
   "outputs": [],
   "source": [
    "(x_train, y_train), (x_test, y_test) = fashion_mnist.load_data()"
   ]
  },
  {
   "cell_type": "code",
   "execution_count": 3,
   "metadata": {},
   "outputs": [],
   "source": [
    "X_train_v, X_val, y_train_v, y_val = train_test_split(x_train, y_train, test_size = 0.1, stratify = y_train)"
   ]
  },
  {
   "cell_type": "code",
   "execution_count": 4,
   "metadata": {
    "scrolled": true
   },
   "outputs": [
    {
     "data": {
      "text/plain": [
       "255"
      ]
     },
     "execution_count": 4,
     "metadata": {},
     "output_type": "execute_result"
    }
   ],
   "source": [
    "x_train.max()"
   ]
  },
  {
   "cell_type": "code",
   "execution_count": 5,
   "metadata": {
    "scrolled": true
   },
   "outputs": [
    {
     "data": {
      "text/plain": [
       "255"
      ]
     },
     "execution_count": 5,
     "metadata": {},
     "output_type": "execute_result"
    }
   ],
   "source": [
    "X_train_v.max()"
   ]
  },
  {
   "cell_type": "code",
   "execution_count": 6,
   "metadata": {},
   "outputs": [
    {
     "data": {
      "text/plain": [
       "(60000, 28, 28)"
      ]
     },
     "execution_count": 6,
     "metadata": {},
     "output_type": "execute_result"
    }
   ],
   "source": [
    "x_train.shape"
   ]
  },
  {
   "cell_type": "code",
   "execution_count": 7,
   "metadata": {},
   "outputs": [
    {
     "data": {
      "text/plain": [
       "(10000, 28, 28)"
      ]
     },
     "execution_count": 7,
     "metadata": {},
     "output_type": "execute_result"
    }
   ],
   "source": [
    "x_test.shape"
   ]
  },
  {
   "cell_type": "code",
   "execution_count": 8,
   "metadata": {},
   "outputs": [
    {
     "data": {
      "text/plain": [
       "(54000, 28, 28)"
      ]
     },
     "execution_count": 8,
     "metadata": {},
     "output_type": "execute_result"
    }
   ],
   "source": [
    "X_train_v.shape"
   ]
  },
  {
   "cell_type": "code",
   "execution_count": 9,
   "metadata": {},
   "outputs": [
    {
     "data": {
      "text/plain": [
       "(60000,)"
      ]
     },
     "execution_count": 9,
     "metadata": {},
     "output_type": "execute_result"
    }
   ],
   "source": [
    "y_train.shape"
   ]
  },
  {
   "cell_type": "code",
   "execution_count": 10,
   "metadata": {},
   "outputs": [
    {
     "data": {
      "text/plain": [
       "(6000, 28, 28)"
      ]
     },
     "execution_count": 10,
     "metadata": {},
     "output_type": "execute_result"
    }
   ],
   "source": [
    "X_val.shape"
   ]
  },
  {
   "cell_type": "code",
   "execution_count": 11,
   "metadata": {},
   "outputs": [
    {
     "data": {
      "text/plain": [
       "(6000,)"
      ]
     },
     "execution_count": 11,
     "metadata": {},
     "output_type": "execute_result"
    }
   ],
   "source": [
    "y_val.shape"
   ]
  },
  {
   "cell_type": "markdown",
   "metadata": {},
   "source": [
    "**TASK 2: Use matplotlib to view an image from the data set. It can be any image from the data set.**"
   ]
  },
  {
   "cell_type": "code",
   "execution_count": 12,
   "metadata": {},
   "outputs": [],
   "source": [
    "classes=[\"T-shirt/top\", \"Trouser\",\"Pullover\",\"Dress\",\"Coat\",\"Sandal\",\"Shirt\",\"Sneaker\",\"Bag\",\"Ankle boot\"]"
   ]
  },
  {
   "cell_type": "code",
   "execution_count": 13,
   "metadata": {},
   "outputs": [
    {
     "data": {
      "image/png": "[encoded data removed]",
      "text/plain": [
       "<Figure size 640x480 with 1 Axes>"
      ]
     },
     "metadata": {},
     "output_type": "display_data"
    }
   ],
   "source": [
    "plt.imshow(X_train_v[1])\n",
    "plt.show()"
   ]
  },
  {
   "cell_type": "code",
   "execution_count": 14,
   "metadata": {},
   "outputs": [
    {
     "data": {
      "image/png": "[encoded data removed]",
      "text/plain": [
       "<Figure size 640x480 with 1 Axes>"
      ]
     },
     "metadata": {},
     "output_type": "display_data"
    }
   ],
   "source": [
    "plt.imshow(X_train_v[16])\n",
    "plt.show()"
   ]
  },
  {
   "cell_type": "code",
   "execution_count": 15,
   "metadata": {},
   "outputs": [
    {
     "data": {
      "image/png": "[encoded data removed]",
      "text/plain": [
       "<Figure size 640x480 with 1 Axes>"
      ]
     },
     "metadata": {},
     "output_type": "display_data"
    }
   ],
   "source": [
    "plt.imshow(X_train_v[11])  \n",
    "plt.show()"
   ]
  },
  {
   "cell_type": "markdown",
   "metadata": {},
   "source": [
    "# Data Preprocessing\n",
    "\n",
    "**TASK 3: Normalize the X train and X test data by dividing by the max value of the image arrays.**"
   ]
  },
  {
   "cell_type": "code",
   "execution_count": 16,
   "metadata": {},
   "outputs": [],
   "source": [
    "X_train = x_train.astype(\"float32\")\n",
    "X_test = x_test.astype(\"float32\")\n",
    "X_train /= 255\n",
    "X_test /= 255"
   ]
  },
  {
   "cell_type": "code",
   "execution_count": 17,
   "metadata": {},
   "outputs": [
    {
     "data": {
      "text/plain": [
       "255"
      ]
     },
     "execution_count": 17,
     "metadata": {},
     "output_type": "execute_result"
    }
   ],
   "source": [
    "x_train.max()"
   ]
  },
  {
   "cell_type": "code",
   "execution_count": 18,
   "metadata": {},
   "outputs": [
    {
     "data": {
      "text/plain": [
       "255"
      ]
     },
     "execution_count": 18,
     "metadata": {},
     "output_type": "execute_result"
    }
   ],
   "source": [
    "X_train_v.max()"
   ]
  },
  {
   "cell_type": "code",
   "execution_count": 19,
   "metadata": {},
   "outputs": [
    {
     "data": {
      "text/plain": [
       "255"
      ]
     },
     "execution_count": 19,
     "metadata": {},
     "output_type": "execute_result"
    }
   ],
   "source": [
    "X_val.max()"
   ]
  },
  {
   "cell_type": "code",
   "execution_count": 20,
   "metadata": {},
   "outputs": [
    {
     "data": {
      "text/plain": [
       "255"
      ]
     },
     "execution_count": 20,
     "metadata": {},
     "output_type": "execute_result"
    }
   ],
   "source": [
    "x_test.max()"
   ]
  },
  {
   "cell_type": "code",
   "execution_count": 21,
   "metadata": {},
   "outputs": [],
   "source": [
    "X_train_v = X_train_v.astype(\"float32\")\n",
    "X_val = X_val.astype(\"float32\")\n",
    "X_train_v /= 255\n",
    "X_val /= 255"
   ]
  },
  {
   "cell_type": "code",
   "execution_count": 22,
   "metadata": {},
   "outputs": [
    {
     "data": {
      "text/plain": [
       "1.0"
      ]
     },
     "execution_count": 22,
     "metadata": {},
     "output_type": "execute_result"
    }
   ],
   "source": [
    "X_train_v.max()"
   ]
  },
  {
   "cell_type": "code",
   "execution_count": 23,
   "metadata": {},
   "outputs": [
    {
     "data": {
      "text/plain": [
       "1.0"
      ]
     },
     "execution_count": 23,
     "metadata": {},
     "output_type": "execute_result"
    }
   ],
   "source": [
    "X_train.max()"
   ]
  },
  {
   "cell_type": "code",
   "execution_count": 24,
   "metadata": {},
   "outputs": [
    {
     "data": {
      "text/plain": [
       "1.0"
      ]
     },
     "execution_count": 24,
     "metadata": {},
     "output_type": "execute_result"
    }
   ],
   "source": [
    "X_val.max()"
   ]
  },
  {
   "cell_type": "markdown",
   "metadata": {},
   "source": [
    "**Task 4: Reshape the X arrays to include a 4 dimension of the single channel. Similar to what we did for the numbers MNIST data set.**"
   ]
  },
  {
   "cell_type": "code",
   "execution_count": 25,
   "metadata": {},
   "outputs": [],
   "source": [
    "X_train_vs = np.expand_dims(X_train_v, -1)\n",
    "X_val_s = np.expand_dims(X_val, -1)"
   ]
  },
  {
   "cell_type": "code",
   "execution_count": 26,
   "metadata": {},
   "outputs": [],
   "source": [
    "X_train_s = np.expand_dims(X_train, -1)\n",
    "X_test_s = np.expand_dims(X_test, -1)"
   ]
  },
  {
   "cell_type": "code",
   "execution_count": 27,
   "metadata": {},
   "outputs": [
    {
     "data": {
      "text/plain": [
       "(60000, 28, 28, 1)"
      ]
     },
     "execution_count": 27,
     "metadata": {},
     "output_type": "execute_result"
    }
   ],
   "source": [
    "X_train_s.shape"
   ]
  },
  {
   "cell_type": "code",
   "execution_count": 28,
   "metadata": {},
   "outputs": [
    {
     "data": {
      "text/plain": [
       "(6000, 28, 28, 1)"
      ]
     },
     "execution_count": 28,
     "metadata": {},
     "output_type": "execute_result"
    }
   ],
   "source": [
    "X_val_s.shape"
   ]
  },
  {
   "cell_type": "markdown",
   "metadata": {},
   "source": [
    "**TASK 5: Convert the y_train and y_test values to be one-hot encoded for categorical analysis by Keras.**"
   ]
  },
  {
   "cell_type": "code",
   "execution_count": 29,
   "metadata": {},
   "outputs": [],
   "source": [
    "y_train_vc = to_categorical(y_train_v)\n",
    "y_val_vc = to_categorical(y_val)"
   ]
  },
  {
   "cell_type": "code",
   "execution_count": 30,
   "metadata": {},
   "outputs": [],
   "source": [
    "y_train_c = to_categorical(y_train)\n",
    "y_test_c = to_categorical(y_test)"
   ]
  },
  {
   "cell_type": "code",
   "execution_count": 31,
   "metadata": {},
   "outputs": [
    {
     "data": {
      "text/plain": [
       "1.0"
      ]
     },
     "execution_count": 31,
     "metadata": {},
     "output_type": "execute_result"
    }
   ],
   "source": [
    "y_train_vc.max()"
   ]
  },
  {
   "cell_type": "code",
   "execution_count": 32,
   "metadata": {},
   "outputs": [
    {
     "data": {
      "text/plain": [
       "1.0"
      ]
     },
     "execution_count": 32,
     "metadata": {},
     "output_type": "execute_result"
    }
   ],
   "source": [
    "y_val_vc.max()"
   ]
  },
  {
   "cell_type": "code",
   "execution_count": 33,
   "metadata": {},
   "outputs": [
    {
     "data": {
      "text/plain": [
       "1.0"
      ]
     },
     "execution_count": 33,
     "metadata": {},
     "output_type": "execute_result"
    }
   ],
   "source": [
    "y_train_c.max()"
   ]
  },
  {
   "cell_type": "code",
   "execution_count": 34,
   "metadata": {},
   "outputs": [
    {
     "data": {
      "text/plain": [
       "1.0"
      ]
     },
     "execution_count": 34,
     "metadata": {},
     "output_type": "execute_result"
    }
   ],
   "source": [
    "y_test_c.max()"
   ]
  },
  {
   "cell_type": "markdown",
   "metadata": {},
   "source": [
    "# Modeling"
   ]
  },
  {
   "cell_type": "markdown",
   "metadata": {},
   "source": [
    "## Create the model\n",
    "\n",
    "**TASK 5: Use Keras to create a model consisting of at least the following layers (but feel free to experiment):**\n",
    "\n",
    "* 2D Convolutional Layer, filters=28 and kernel_size=(3,3)\n",
    "* Pooling Layer where pool_size = (2,2) strides=(1,1)\n",
    "\n",
    "* Flatten Layer\n",
    "* Dense Layer (128 Neurons, but feel free to play around with this value), RELU activation\n",
    "\n",
    "* Final Dense Layer of 10 Neurons with a softmax activation\n",
    "\n",
    "**Then compile the model with these parameters: loss='categorical_crossentropy', optimizer='rmsprop', metrics=['accuracy']**"
   ]
  },
  {
   "cell_type": "code",
   "execution_count": 35,
   "metadata": {},
   "outputs": [],
   "source": [
    "model_r = Sequential(\n",
    "    [\n",
    "        Conv2D(filters=28, kernel_size=(3, 3), input_shape=(28, 28, 1), activation=\"relu\", padding=\"same\"), \n",
    "        MaxPool2D(pool_size=(2, 2), strides = (1, 1)),\n",
    "        Flatten(),\n",
    "        Dense(120,activation='relu', kernel_regularizer=tf.keras.regularizers.l2(0.1)),\n",
    "        Dense(40,activation='relu', kernel_regularizer=tf.keras.regularizers.l2(0.1)),\n",
    "        Dense(10,activation='softmax')\n",
    "        \n",
    "    ]\n",
    ")\n",
    "model_r.compile(\n",
    "    loss=tf.keras.losses.CategoricalCrossentropy(from_logits=True),\n",
    "    optimizer=tf.keras.optimizers.Adam(0.01),\n",
    ")"
   ]
  },
  {
   "cell_type": "code",
   "execution_count": 36,
   "metadata": {
    "scrolled": true
   },
   "outputs": [
    {
     "data": {
      "text/plain": [
       "(6000, 10)"
      ]
     },
     "execution_count": 36,
     "metadata": {},
     "output_type": "execute_result"
    }
   ],
   "source": [
    "y_val_vc.shape"
   ]
  },
  {
   "cell_type": "code",
   "execution_count": 39,
   "metadata": {},
   "outputs": [],
   "source": [
    "early_stop = tf.keras.callbacks.EarlyStopping(monitor=\"loss\", mode=\"min\", verbose=1, patience=25,\n",
    "                                           restore_best_weights=True)"
   ]
  },
  {
   "cell_type": "code",
   "execution_count": 40,
   "metadata": {},
   "outputs": [
    {
     "name": "stdout",
     "output_type": "stream",
     "text": [
      "Epoch 1/50\n"
     ]
    },
    {
     "name": "stderr",
     "output_type": "stream",
     "text": [
      "C:\\Users\\Hnana\\anaconda3\\Lib\\site-packages\\keras\\src\\backend.py:5577: UserWarning: \"`categorical_crossentropy` received `from_logits=True`, but the `output` argument was produced by a Softmax activation and thus does not represent logits. Was this intended?\n",
      "  output, from_logits = _get_logits(\n"
     ]
    },
    {
     "name": "stdout",
     "output_type": "stream",
     "text": [
      "1688/1688 [==============================] - 70s 41ms/step - loss: 1.7423 - val_loss: 1.1601\n",
      "Epoch 2/50\n",
      "1688/1688 [==============================] - 63s 37ms/step - loss: 1.3302 - val_loss: 1.9542\n",
      "Epoch 3/50\n",
      "1688/1688 [==============================] - 84s 50ms/step - loss: 1.3261 - val_loss: 1.2404\n",
      "Epoch 4/50\n",
      "1688/1688 [==============================] - 165s 97ms/step - loss: 1.1764 - val_loss: 1.1808\n",
      "Epoch 5/50\n",
      "1688/1688 [==============================] - 165s 98ms/step - loss: 1.0847 - val_loss: 0.9918\n",
      "Epoch 6/50\n",
      "1688/1688 [==============================] - 169s 100ms/step - loss: 1.0518 - val_loss: 1.0372\n",
      "Epoch 7/50\n",
      "1688/1688 [==============================] - 153s 90ms/step - loss: 1.0663 - val_loss: 1.0562\n",
      "Epoch 8/50\n",
      "1688/1688 [==============================] - 169s 100ms/step - loss: 1.0641 - val_loss: 1.1441\n",
      "Epoch 9/50\n",
      "1688/1688 [==============================] - 165s 98ms/step - loss: 1.0455 - val_loss: 1.0683\n",
      "Epoch 10/50\n",
      "1688/1688 [==============================] - 173s 102ms/step - loss: 1.0481 - val_loss: 1.0876\n",
      "Epoch 11/50\n",
      "1688/1688 [==============================] - 158s 94ms/step - loss: 1.0501 - val_loss: 1.1902\n",
      "Epoch 12/50\n",
      "1688/1688 [==============================] - 167s 99ms/step - loss: 1.0430 - val_loss: 1.0105\n",
      "Epoch 13/50\n",
      "1688/1688 [==============================] - 159s 94ms/step - loss: 1.0423 - val_loss: 1.1432\n",
      "Epoch 14/50\n",
      "1688/1688 [==============================] - 171s 101ms/step - loss: 1.0413 - val_loss: 1.0158\n",
      "Epoch 15/50\n",
      "1688/1688 [==============================] - 159s 94ms/step - loss: 1.0363 - val_loss: 1.0588\n",
      "Epoch 16/50\n",
      "1688/1688 [==============================] - 172s 102ms/step - loss: 1.0406 - val_loss: 1.0465\n",
      "Epoch 17/50\n",
      "1688/1688 [==============================] - 151s 89ms/step - loss: 1.0440 - val_loss: 1.0311\n",
      "Epoch 18/50\n",
      "1688/1688 [==============================] - 170s 100ms/step - loss: 1.0379 - val_loss: 1.1170\n",
      "Epoch 19/50\n",
      "1688/1688 [==============================] - 166s 99ms/step - loss: 1.0320 - val_loss: 1.0310\n",
      "Epoch 20/50\n",
      "1688/1688 [==============================] - 167s 99ms/step - loss: 1.0428 - val_loss: 1.0783\n",
      "Epoch 21/50\n",
      "1688/1688 [==============================] - 167s 99ms/step - loss: 1.0320 - val_loss: 1.0727\n",
      "Epoch 22/50\n",
      "1688/1688 [==============================] - 159s 94ms/step - loss: 1.0295 - val_loss: 1.0037\n",
      "Epoch 23/50\n",
      "1688/1688 [==============================] - 148s 88ms/step - loss: 1.0338 - val_loss: 0.9761\n",
      "Epoch 24/50\n",
      "1688/1688 [==============================] - 154s 91ms/step - loss: 1.0388 - val_loss: 1.0065\n",
      "Epoch 25/50\n",
      "1688/1688 [==============================] - 549s 325ms/step - loss: 1.0367 - val_loss: 1.0472\n",
      "Epoch 26/50\n",
      "1688/1688 [==============================] - 146s 86ms/step - loss: 1.0442 - val_loss: 1.1069\n",
      "Epoch 27/50\n",
      "1688/1688 [==============================] - 67s 40ms/step - loss: 1.0315 - val_loss: 1.2765\n",
      "Epoch 28/50\n",
      "1688/1688 [==============================] - 67s 40ms/step - loss: 1.0438 - val_loss: 1.0179\n",
      "Epoch 29/50\n",
      "1688/1688 [==============================] - 71s 42ms/step - loss: 1.0360 - val_loss: 1.0784\n",
      "Epoch 30/50\n",
      "1688/1688 [==============================] - 68s 41ms/step - loss: 1.0458 - val_loss: 0.9845\n",
      "Epoch 31/50\n",
      "1688/1688 [==============================] - 77s 45ms/step - loss: 1.0436 - val_loss: 1.0262\n",
      "Epoch 32/50\n",
      "1688/1688 [==============================] - 73s 43ms/step - loss: 1.0350 - val_loss: 1.0413\n",
      "Epoch 33/50\n",
      "1688/1688 [==============================] - 65s 38ms/step - loss: 1.0431 - val_loss: 1.1934\n",
      "Epoch 34/50\n",
      "1688/1688 [==============================] - 65s 38ms/step - loss: 1.0411 - val_loss: 1.1117\n",
      "Epoch 35/50\n",
      "1688/1688 [==============================] - 65s 39ms/step - loss: 1.0428 - val_loss: 1.0370\n",
      "Epoch 36/50\n",
      "1688/1688 [==============================] - 68s 40ms/step - loss: 1.0400 - val_loss: 1.0016\n",
      "Epoch 37/50\n",
      "1688/1688 [==============================] - 66s 39ms/step - loss: 1.0437 - val_loss: 1.1882\n",
      "Epoch 38/50\n",
      "1688/1688 [==============================] - 68s 40ms/step - loss: 1.0356 - val_loss: 1.0471\n",
      "Epoch 39/50\n",
      "1688/1688 [==============================] - 79s 47ms/step - loss: 1.0301 - val_loss: 0.9124\n",
      "Epoch 40/50\n",
      "1688/1688 [==============================] - 66s 39ms/step - loss: 1.0358 - val_loss: 1.0648\n",
      "Epoch 41/50\n",
      "1688/1688 [==============================] - 66s 39ms/step - loss: 1.0378 - val_loss: 1.0578\n",
      "Epoch 42/50\n",
      "1688/1688 [==============================] - 67s 40ms/step - loss: 1.0329 - val_loss: 1.1219\n",
      "Epoch 43/50\n",
      "1688/1688 [==============================] - 77s 45ms/step - loss: 1.0356 - val_loss: 0.9796\n",
      "Epoch 44/50\n",
      "1688/1688 [==============================] - 74s 44ms/step - loss: 1.0372 - val_loss: 0.9689\n",
      "Epoch 45/50\n",
      "1688/1688 [==============================] - 76s 45ms/step - loss: 1.0332 - val_loss: 0.9851\n",
      "Epoch 46/50\n",
      "1688/1688 [==============================] - 64s 38ms/step - loss: 1.0357 - val_loss: 1.0314\n",
      "Epoch 47/50\n",
      "1688/1688 [==============================] - ETA: 0s - loss: 1.0321Restoring model weights from the end of the best epoch: 22.\n",
      "1688/1688 [==============================] - 65s 39ms/step - loss: 1.0321 - val_loss: 0.9434\n",
      "Epoch 47: early stopping\n"
     ]
    }
   ],
   "source": [
    "model_r_history = model_r.fit(X_train_vs, y_train_vc, batch_size=32, epochs=50, callbacks=[early_stop], validation_data = (X_val_s, y_val_vc))#"
   ]
  },
  {
   "cell_type": "code",
   "execution_count": 41,
   "metadata": {},
   "outputs": [],
   "source": [
    "model = Sequential()\n",
    "\n",
    "model.add(Conv2D(filters=32, kernel_size=(3, 3), input_shape=(28, 28, 1), activation=\"relu\",\n",
    "                 padding=\"same\"))\n",
    "model.add(MaxPool2D(pool_size=(2, 2), strides = (1, 1)))\n",
    "model.add(Flatten())\n",
    "model.add(Dense(128, activation=\"relu\"))\n",
    "model.add(Dense(10, activation=\"softmax\"))\n",
    "\n",
    "model.compile(loss=\"categorical_crossentropy\", optimizer=\"rmsprop\", metrics=[\"accuracy\"])"
   ]
  },
  {
   "cell_type": "code",
   "execution_count": 42,
   "metadata": {},
   "outputs": [
    {
     "name": "stdout",
     "output_type": "stream",
     "text": [
      "Model: \"sequential_1\"\n",
      "_________________________________________________________________\n",
      " Layer (type)                Output Shape              Param #   \n",
      "=================================================================\n",
      " conv2d_1 (Conv2D)           (None, 28, 28, 32)        320       \n",
      "                                                                 \n",
      " max_pooling2d_1 (MaxPoolin  (None, 27, 27, 32)        0         \n",
      " g2D)                                                            \n",
      "                                                                 \n",
      " flatten_1 (Flatten)         (None, 23328)             0         \n",
      "                                                                 \n",
      " dense_3 (Dense)             (None, 128)               2986112   \n",
      "                                                                 \n",
      " dense_4 (Dense)             (None, 10)                1290      \n",
      "                                                                 \n",
      "=================================================================\n",
      "Total params: 2987722 (11.40 MB)\n",
      "Trainable params: 2987722 (11.40 MB)\n",
      "Non-trainable params: 0 (0.00 Byte)\n",
      "_________________________________________________________________\n"
     ]
    }
   ],
   "source": [
    "model.summary()"
   ]
  },
  {
   "cell_type": "markdown",
   "metadata": {},
   "source": [
    "##  Model Training \n",
    "\n",
    "**TASK 6: Train/Fit the model to the x_train set by using EarlyStop. Amount of epochs is up to you.**"
   ]
  },
  {
   "cell_type": "code",
   "execution_count": 43,
   "metadata": {},
   "outputs": [
    {
     "name": "stdout",
     "output_type": "stream",
     "text": [
      "Epoch 1/50\n",
      "1688/1688 [==============================] - 71s 42ms/step - loss: 0.3834 - accuracy: 0.8646 - val_loss: 0.2838 - val_accuracy: 0.8987\n",
      "Epoch 2/50\n",
      "1688/1688 [==============================] - 67s 40ms/step - loss: 0.2540 - accuracy: 0.9076 - val_loss: 0.2624 - val_accuracy: 0.9067\n",
      "Epoch 3/50\n",
      "1688/1688 [==============================] - 68s 40ms/step - loss: 0.2110 - accuracy: 0.9227 - val_loss: 0.2446 - val_accuracy: 0.9102\n",
      "Epoch 4/50\n",
      "1688/1688 [==============================] - 64s 38ms/step - loss: 0.1803 - accuracy: 0.9345 - val_loss: 0.2325 - val_accuracy: 0.9177\n",
      "Epoch 5/50\n",
      "1688/1688 [==============================] - 68s 40ms/step - loss: 0.1570 - accuracy: 0.9425 - val_loss: 0.2666 - val_accuracy: 0.9128\n",
      "Epoch 6/50\n",
      "1688/1688 [==============================] - 70s 41ms/step - loss: 0.1368 - accuracy: 0.9512 - val_loss: 0.2714 - val_accuracy: 0.9135\n",
      "Epoch 7/50\n",
      "1688/1688 [==============================] - 65s 38ms/step - loss: 0.1194 - accuracy: 0.9572 - val_loss: 0.2802 - val_accuracy: 0.9132\n",
      "Epoch 8/50\n",
      "1688/1688 [==============================] - 65s 39ms/step - loss: 0.1057 - accuracy: 0.9618 - val_loss: 0.2992 - val_accuracy: 0.9132\n",
      "Epoch 9/50\n",
      "1688/1688 [==============================] - 65s 39ms/step - loss: 0.0912 - accuracy: 0.9673 - val_loss: 0.3290 - val_accuracy: 0.9077\n",
      "Epoch 10/50\n",
      "1688/1688 [==============================] - 70s 41ms/step - loss: 0.0792 - accuracy: 0.9713 - val_loss: 0.3234 - val_accuracy: 0.9143\n",
      "Epoch 11/50\n",
      "1688/1688 [==============================] - 64s 38ms/step - loss: 0.0696 - accuracy: 0.9761 - val_loss: 0.3471 - val_accuracy: 0.9108\n",
      "Epoch 12/50\n",
      "1688/1688 [==============================] - 68s 40ms/step - loss: 0.0603 - accuracy: 0.9778 - val_loss: 0.3631 - val_accuracy: 0.9093\n",
      "Epoch 13/50\n",
      "1688/1688 [==============================] - 65s 39ms/step - loss: 0.0531 - accuracy: 0.9813 - val_loss: 0.3535 - val_accuracy: 0.9130\n",
      "Epoch 14/50\n",
      "1688/1688 [==============================] - 64s 38ms/step - loss: 0.0471 - accuracy: 0.9841 - val_loss: 0.3745 - val_accuracy: 0.9148\n",
      "Epoch 15/50\n",
      "1688/1688 [==============================] - 65s 39ms/step - loss: 0.0417 - accuracy: 0.9854 - val_loss: 0.4936 - val_accuracy: 0.9148\n",
      "Epoch 16/50\n",
      "1688/1688 [==============================] - 64s 38ms/step - loss: 0.0370 - accuracy: 0.9872 - val_loss: 0.4474 - val_accuracy: 0.9168\n",
      "Epoch 17/50\n",
      "1688/1688 [==============================] - 65s 39ms/step - loss: 0.0324 - accuracy: 0.9890 - val_loss: 0.5703 - val_accuracy: 0.8967\n",
      "Epoch 18/50\n",
      "1688/1688 [==============================] - 65s 38ms/step - loss: 0.0298 - accuracy: 0.9901 - val_loss: 0.5295 - val_accuracy: 0.9145\n",
      "Epoch 19/50\n",
      "1688/1688 [==============================] - 69s 41ms/step - loss: 0.0273 - accuracy: 0.9903 - val_loss: 0.5394 - val_accuracy: 0.9147\n",
      "Epoch 20/50\n",
      "1688/1688 [==============================] - 65s 38ms/step - loss: 0.0219 - accuracy: 0.9926 - val_loss: 0.5421 - val_accuracy: 0.9132\n",
      "Epoch 21/50\n",
      "1688/1688 [==============================] - 64s 38ms/step - loss: 0.0190 - accuracy: 0.9933 - val_loss: 0.6393 - val_accuracy: 0.9167\n",
      "Epoch 22/50\n",
      "1688/1688 [==============================] - 68s 40ms/step - loss: 0.0186 - accuracy: 0.9937 - val_loss: 0.6221 - val_accuracy: 0.9080\n",
      "Epoch 23/50\n",
      "1688/1688 [==============================] - 65s 39ms/step - loss: 0.0150 - accuracy: 0.9946 - val_loss: 0.6368 - val_accuracy: 0.9128\n",
      "Epoch 24/50\n",
      "1688/1688 [==============================] - 67s 40ms/step - loss: 0.0145 - accuracy: 0.9951 - val_loss: 0.6968 - val_accuracy: 0.9098\n",
      "Epoch 25/50\n",
      "1688/1688 [==============================] - 65s 38ms/step - loss: 0.0113 - accuracy: 0.9962 - val_loss: 0.6989 - val_accuracy: 0.9130\n",
      "Epoch 26/50\n",
      "1688/1688 [==============================] - 65s 39ms/step - loss: 0.0118 - accuracy: 0.9960 - val_loss: 0.7276 - val_accuracy: 0.9143\n",
      "Epoch 27/50\n",
      "1688/1688 [==============================] - 68s 40ms/step - loss: 0.0088 - accuracy: 0.9972 - val_loss: 0.7511 - val_accuracy: 0.9152\n",
      "Epoch 28/50\n",
      "1688/1688 [==============================] - 64s 38ms/step - loss: 0.0090 - accuracy: 0.9970 - val_loss: 0.7253 - val_accuracy: 0.9105\n",
      "Epoch 29/50\n",
      "1688/1688 [==============================] - 67s 40ms/step - loss: 0.0087 - accuracy: 0.9974 - val_loss: 0.8138 - val_accuracy: 0.9058\n",
      "Epoch 30/50\n",
      "1688/1688 [==============================] - 68s 41ms/step - loss: 0.0076 - accuracy: 0.9976 - val_loss: 0.8691 - val_accuracy: 0.9043\n",
      "Epoch 31/50\n",
      "1688/1688 [==============================] - 68s 40ms/step - loss: 0.0079 - accuracy: 0.9973 - val_loss: 0.8017 - val_accuracy: 0.9113\n",
      "Epoch 32/50\n",
      "1688/1688 [==============================] - 69s 41ms/step - loss: 0.0051 - accuracy: 0.9985 - val_loss: 0.7784 - val_accuracy: 0.9135\n",
      "Epoch 33/50\n",
      "1688/1688 [==============================] - 71s 42ms/step - loss: 0.0046 - accuracy: 0.9986 - val_loss: 0.8047 - val_accuracy: 0.9165\n",
      "Epoch 34/50\n",
      "1688/1688 [==============================] - 67s 40ms/step - loss: 0.0038 - accuracy: 0.9989 - val_loss: 0.8944 - val_accuracy: 0.9103\n",
      "Epoch 35/50\n",
      "1688/1688 [==============================] - 66s 39ms/step - loss: 0.0032 - accuracy: 0.9990 - val_loss: 0.9160 - val_accuracy: 0.9115\n",
      "Epoch 36/50\n",
      "1688/1688 [==============================] - 66s 39ms/step - loss: 0.0028 - accuracy: 0.9991 - val_loss: 0.8766 - val_accuracy: 0.9127\n",
      "Epoch 37/50\n",
      "1688/1688 [==============================] - 64s 38ms/step - loss: 0.0048 - accuracy: 0.9982 - val_loss: 0.9215 - val_accuracy: 0.9123\n",
      "Epoch 38/50\n",
      "1688/1688 [==============================] - 72s 43ms/step - loss: 0.0043 - accuracy: 0.9988 - val_loss: 0.8761 - val_accuracy: 0.9172\n",
      "Epoch 39/50\n",
      "1688/1688 [==============================] - 71s 42ms/step - loss: 0.0036 - accuracy: 0.9989 - val_loss: 0.9146 - val_accuracy: 0.9118\n",
      "Epoch 40/50\n",
      "1688/1688 [==============================] - 69s 41ms/step - loss: 0.0029 - accuracy: 0.9991 - val_loss: 0.8966 - val_accuracy: 0.9087\n",
      "Epoch 41/50\n",
      "1688/1688 [==============================] - 69s 41ms/step - loss: 0.0046 - accuracy: 0.9986 - val_loss: 0.9858 - val_accuracy: 0.9125\n",
      "Epoch 42/50\n",
      "1688/1688 [==============================] - 66s 39ms/step - loss: 0.0023 - accuracy: 0.9992 - val_loss: 0.9578 - val_accuracy: 0.9135\n",
      "Epoch 43/50\n",
      "1688/1688 [==============================] - 67s 40ms/step - loss: 0.0048 - accuracy: 0.9985 - val_loss: 0.9238 - val_accuracy: 0.9100\n",
      "Epoch 44/50\n",
      "1688/1688 [==============================] - 65s 39ms/step - loss: 0.0029 - accuracy: 0.9990 - val_loss: 1.0748 - val_accuracy: 0.9122\n",
      "Epoch 45/50\n",
      "1688/1688 [==============================] - 65s 38ms/step - loss: 0.0051 - accuracy: 0.9986 - val_loss: 0.9402 - val_accuracy: 0.9108\n",
      "Epoch 46/50\n",
      "1688/1688 [==============================] - 66s 39ms/step - loss: 0.0018 - accuracy: 0.9994 - val_loss: 1.0861 - val_accuracy: 0.9110\n",
      "Epoch 47/50\n",
      "1688/1688 [==============================] - 71s 42ms/step - loss: 0.0020 - accuracy: 0.9992 - val_loss: 1.0604 - val_accuracy: 0.9152\n",
      "Epoch 48/50\n",
      "1688/1688 [==============================] - 65s 38ms/step - loss: 0.0022 - accuracy: 0.9994 - val_loss: 1.0934 - val_accuracy: 0.9145\n",
      "Epoch 49/50\n",
      "1688/1688 [==============================] - 67s 40ms/step - loss: 0.0026 - accuracy: 0.9994 - val_loss: 1.0571 - val_accuracy: 0.9118\n",
      "Epoch 50/50\n",
      "1688/1688 [==============================] - 66s 39ms/step - loss: 0.0028 - accuracy: 0.9992 - val_loss: 1.1117 - val_accuracy: 0.9153\n"
     ]
    }
   ],
   "source": [
    "model_history = model.fit(X_train_vs, y_train_vc, batch_size=32, epochs=50, callbacks=[early_stop], validation_data = (X_val_s, y_val_vc))#32 or less batch size"
   ]
  },
  {
   "cell_type": "markdown",
   "metadata": {},
   "source": [
    "**TASK 7: Plot values of metrics you used in your model.**"
   ]
  },
  {
   "cell_type": "code",
   "execution_count": 44,
   "metadata": {},
   "outputs": [
    {
     "data": {
      "image/png": "[encoded data removed]",
      "text/plain": [
       "<Figure size 640x480 with 1 Axes>"
      ]
     },
     "metadata": {},
     "output_type": "display_data"
    }
   ],
   "source": [
    "pd.DataFrame(model_history.history).plot();"
   ]
  },
  {
   "cell_type": "markdown",
   "metadata": {},
   "source": [
    "## Model Evaluation\n",
    "\n",
    "**TASK 8: Show the accuracy,precision,recall,f1-score the model achieved on the x_test data set. Keep in mind, there are quite a few ways to do this, but we recommend following the same procedure we showed in the MNIST lecture.**"
   ]
  },
  {
   "cell_type": "code",
   "execution_count": 45,
   "metadata": {},
   "outputs": [
    {
     "name": "stdout",
     "output_type": "stream",
     "text": [
      "313/313 [==============================] - 2s 7ms/step\n",
      "              precision    recall  f1-score   support\n",
      "\n",
      "           0       0.85      0.86      0.85      1000\n",
      "           1       0.99      0.98      0.99      1000\n",
      "           2       0.85      0.86      0.86      1000\n",
      "           3       0.91      0.92      0.91      1000\n",
      "           4       0.84      0.89      0.86      1000\n",
      "           5       0.97      0.99      0.98      1000\n",
      "           6       0.79      0.72      0.75      1000\n",
      "           7       0.97      0.96      0.96      1000\n",
      "           8       0.98      0.98      0.98      1000\n",
      "           9       0.97      0.97      0.97      1000\n",
      "\n",
      "    accuracy                           0.91     10000\n",
      "   macro avg       0.91      0.91      0.91     10000\n",
      "weighted avg       0.91      0.91      0.91     10000\n",
      "\n",
      "-------------------------------------------------------------\n"
     ]
    },
    {
     "data": {
      "image/png": "[encoded data removed]",
      "text/plain": [
       "<Figure size 900x500 with 2 Axes>"
      ]
     },
     "metadata": {},
     "output_type": "display_data"
    },
    {
     "name": "stdout",
     "output_type": "stream",
     "text": [
      "\n",
      "\n"
     ]
    },
    {
     "data": {
      "image/png": "[encoded data removed]",
      "text/plain": [
       "<Figure size 640x480 with 1 Axes>"
      ]
     },
     "metadata": {},
     "output_type": "display_data"
    }
   ],
   "source": [
    "pred_prob = model.predict(X_test_s)\n",
    "y_pred = np.argmax(pred_prob, axis=1)\n",
    "print(classification_report(y_test, y_pred))\n",
    "print(\"-------------------------------------------------------------\")\n",
    "plt.figure(figsize=(9, 5))\n",
    "sns.heatmap(\n",
    "        confusion_matrix(y_test, y_pred),\n",
    "        annot=True,\n",
    "        cmap=\"Blues\",\n",
    "        linewidths=0.5,\n",
    "        linecolor=\"black\",\n",
    "        fmt=\"g\",\n",
    "        annot_kws={\"size\": 15},)\n",
    "plt.title(\"prediction\")\n",
    "plt.show();\n",
    "print(\"\\n\")\n",
    "equal = np.equal(y_test, y_pred).sum()\n",
    "not_equal= np.not_equal(y_test, y_pred).sum()\n",
    "plt.bar(['equal','not_equal'] , [equal,not_equal] )\n",
    "plt.title(\"Correct prediction VS wrong prediction\")\n",
    "plt.show();"
   ]
  },
  {
   "cell_type": "markdown",
   "metadata": {},
   "source": [
    "## Prediction"
   ]
  },
  {
   "cell_type": "code",
   "execution_count": 46,
   "metadata": {},
   "outputs": [
    {
     "data": {
      "text/plain": [
       "array([[[0.        ],\n",
       "        [0.        ],\n",
       "        [0.        ],\n",
       "        [0.        ],\n",
       "        [0.        ],\n",
       "        [0.        ],\n",
       "        [0.        ],\n",
       "        [0.        ],\n",
       "        [0.        ],\n",
       "        [0.        ],\n",
       "        [0.        ],\n",
       "        [0.        ],\n",
       "        [0.        ],\n",
       "        [0.        ],\n",
       "        [0.        ],\n",
       "        [0.        ],\n",
       "        [0.        ],\n",
       "        [0.        ],\n",
       "        [0.        ],\n",
       "        [0.        ],\n",
       "        [0.        ],\n",
       "        [0.        ],\n",
       "        [0.        ],\n",
       "        [0.        ],\n",
       "        [0.        ],\n",
       "        [0.        ],\n",
       "        [0.        ],\n",
       "        [0.        ]],\n",
       "\n",
       "       [[0.        ],\n",
       "        [0.        ],\n",
       "        [0.        ],\n",
       "        [0.        ],\n",
       "        [0.        ],\n",
       "        [0.        ],\n",
       "        [0.        ],\n",
       "        [0.        ],\n",
       "        [0.        ],\n",
       "        [0.        ],\n",
       "        [0.        ],\n",
       "        [0.        ],\n",
       "        [0.        ],\n",
       "        [0.        ],\n",
       "        [0.        ],\n",
       "        [0.        ],\n",
       "        [0.        ],\n",
       "        [0.        ],\n",
       "        [0.        ],\n",
       "        [0.        ],\n",
       "        [0.        ],\n",
       "        [0.        ],\n",
       "        [0.        ],\n",
       "        [0.        ],\n",
       "        [0.        ],\n",
       "        [0.        ],\n",
       "        [0.        ],\n",
       "        [0.        ]],\n",
       "\n",
       "       [[0.        ],\n",
       "        [0.        ],\n",
       "        [0.        ],\n",
       "        [0.        ],\n",
       "        [0.        ],\n",
       "        [0.        ],\n",
       "        [0.        ],\n",
       "        [0.        ],\n",
       "        [0.        ],\n",
       "        [0.        ],\n",
       "        [0.        ],\n",
       "        [0.        ],\n",
       "        [0.        ],\n",
       "        [0.        ],\n",
       "        [0.        ],\n",
       "        [0.        ],\n",
       "        [0.        ],\n",
       "        [0.        ],\n",
       "        [0.        ],\n",
       "        [0.        ],\n",
       "        [0.        ],\n",
       "        [0.        ],\n",
       "        [0.        ],\n",
       "        [0.        ],\n",
       "        [0.        ],\n",
       "        [0.        ],\n",
       "        [0.        ],\n",
       "        [0.        ]],\n",
       "\n",
       "       [[0.        ],\n",
       "        [0.        ],\n",
       "        [0.        ],\n",
       "        [0.        ],\n",
       "        [0.        ],\n",
       "        [0.        ],\n",
       "        [0.        ],\n",
       "        [0.        ],\n",
       "        [0.        ],\n",
       "        [0.        ],\n",
       "        [0.        ],\n",
       "        [0.        ],\n",
       "        [0.        ],\n",
       "        [0.        ],\n",
       "        [0.        ],\n",
       "        [0.        ],\n",
       "        [0.        ],\n",
       "        [0.        ],\n",
       "        [0.        ],\n",
       "        [0.        ],\n",
       "        [0.        ],\n",
       "        [0.        ],\n",
       "        [0.        ],\n",
       "        [0.        ],\n",
       "        [0.        ],\n",
       "        [0.        ],\n",
       "        [0.        ],\n",
       "        [0.        ]],\n",
       "\n",
       "       [[0.        ],\n",
       "        [0.        ],\n",
       "        [0.        ],\n",
       "        [0.        ],\n",
       "        [0.        ],\n",
       "        [0.        ],\n",
       "        [0.        ],\n",
       "        [0.        ],\n",
       "        [0.        ],\n",
       "        [0.        ],\n",
       "        [0.        ],\n",
       "        [0.        ],\n",
       "        [0.        ],\n",
       "        [0.        ],\n",
       "        [0.        ],\n",
       "        [0.        ],\n",
       "        [0.        ],\n",
       "        [0.        ],\n",
       "        [0.        ],\n",
       "        [0.        ],\n",
       "        [0.        ],\n",
       "        [0.        ],\n",
       "        [0.        ],\n",
       "        [0.        ],\n",
       "        [0.        ],\n",
       "        [0.        ],\n",
       "        [0.        ],\n",
       "        [0.        ]],\n",
       "\n",
       "       [[0.        ],\n",
       "        [0.        ],\n",
       "        [0.        ],\n",
       "        [0.        ],\n",
       "        [0.        ],\n",
       "        [0.        ],\n",
       "        [0.        ],\n",
       "        [0.        ],\n",
       "        [0.        ],\n",
       "        [0.        ],\n",
       "        [0.        ],\n",
       "        [0.        ],\n",
       "        [0.        ],\n",
       "        [0.        ],\n",
       "        [0.        ],\n",
       "        [0.        ],\n",
       "        [0.        ],\n",
       "        [0.        ],\n",
       "        [0.        ],\n",
       "        [0.        ],\n",
       "        [0.        ],\n",
       "        [0.        ],\n",
       "        [0.        ],\n",
       "        [0.        ],\n",
       "        [0.        ],\n",
       "        [0.        ],\n",
       "        [0.        ],\n",
       "        [0.        ]],\n",
       "\n",
       "       [[0.        ],\n",
       "        [0.        ],\n",
       "        [0.        ],\n",
       "        [0.        ],\n",
       "        [0.        ],\n",
       "        [0.        ],\n",
       "        [0.        ],\n",
       "        [0.        ],\n",
       "        [0.        ],\n",
       "        [0.        ],\n",
       "        [0.        ],\n",
       "        [0.        ],\n",
       "        [0.        ],\n",
       "        [0.        ],\n",
       "        [0.        ],\n",
       "        [0.        ],\n",
       "        [0.        ],\n",
       "        [0.        ],\n",
       "        [0.        ],\n",
       "        [0.        ],\n",
       "        [0.        ],\n",
       "        [0.        ],\n",
       "        [0.        ],\n",
       "        [0.        ],\n",
       "        [0.        ],\n",
       "        [0.        ],\n",
       "        [0.        ],\n",
       "        [0.        ]],\n",
       "\n",
       "       [[0.        ],\n",
       "        [0.        ],\n",
       "        [0.        ],\n",
       "        [0.        ],\n",
       "        [0.        ],\n",
       "        [0.        ],\n",
       "        [0.        ],\n",
       "        [0.        ],\n",
       "        [0.        ],\n",
       "        [0.        ],\n",
       "        [0.        ],\n",
       "        [0.        ],\n",
       "        [0.        ],\n",
       "        [0.        ],\n",
       "        [0.        ],\n",
       "        [0.        ],\n",
       "        [0.        ],\n",
       "        [0.        ],\n",
       "        [0.        ],\n",
       "        [0.01176471],\n",
       "        [0.00392157],\n",
       "        [0.        ],\n",
       "        [0.        ],\n",
       "        [0.02745098],\n",
       "        [0.        ],\n",
       "        [0.14509805],\n",
       "        [0.        ],\n",
       "        [0.        ]],\n",
       "\n",
       "       [[0.        ],\n",
       "        [0.        ],\n",
       "        [0.        ],\n",
       "        [0.        ],\n",
       "        [0.        ],\n",
       "        [0.        ],\n",
       "        [0.        ],\n",
       "        [0.        ],\n",
       "        [0.        ],\n",
       "        [0.        ],\n",
       "        [0.        ],\n",
       "        [0.        ],\n",
       "        [0.        ],\n",
       "        [0.00392157],\n",
       "        [0.00784314],\n",
       "        [0.        ],\n",
       "        [0.10588235],\n",
       "        [0.32941177],\n",
       "        [0.04313726],\n",
       "        [0.        ],\n",
       "        [0.        ],\n",
       "        [0.        ],\n",
       "        [0.        ],\n",
       "        [0.        ],\n",
       "        [0.        ],\n",
       "        [0.46666667],\n",
       "        [0.        ],\n",
       "        [0.        ]],\n",
       "\n",
       "       [[0.        ],\n",
       "        [0.        ],\n",
       "        [0.        ],\n",
       "        [0.        ],\n",
       "        [0.        ],\n",
       "        [0.        ],\n",
       "        [0.        ],\n",
       "        [0.        ],\n",
       "        [0.        ],\n",
       "        [0.        ],\n",
       "        [0.        ],\n",
       "        [0.        ],\n",
       "        [0.        ],\n",
       "        [0.00392157],\n",
       "        [0.        ],\n",
       "        [0.        ],\n",
       "        [0.34509805],\n",
       "        [0.56078434],\n",
       "        [0.43137255],\n",
       "        [0.        ],\n",
       "        [0.        ],\n",
       "        [0.        ],\n",
       "        [0.        ],\n",
       "        [0.08627451],\n",
       "        [0.3647059 ],\n",
       "        [0.41568628],\n",
       "        [0.        ],\n",
       "        [0.        ]],\n",
       "\n",
       "       [[0.        ],\n",
       "        [0.        ],\n",
       "        [0.        ],\n",
       "        [0.        ],\n",
       "        [0.        ],\n",
       "        [0.        ],\n",
       "        [0.        ],\n",
       "        [0.        ],\n",
       "        [0.        ],\n",
       "        [0.        ],\n",
       "        [0.        ],\n",
       "        [0.        ],\n",
       "        [0.        ],\n",
       "        [0.01568628],\n",
       "        [0.        ],\n",
       "        [0.20784314],\n",
       "        [0.5058824 ],\n",
       "        [0.47058824],\n",
       "        [0.5764706 ],\n",
       "        [0.6862745 ],\n",
       "        [0.6156863 ],\n",
       "        [0.6509804 ],\n",
       "        [0.5294118 ],\n",
       "        [0.6039216 ],\n",
       "        [0.65882355],\n",
       "        [0.54901963],\n",
       "        [0.        ],\n",
       "        [0.        ]],\n",
       "\n",
       "       [[0.        ],\n",
       "        [0.        ],\n",
       "        [0.        ],\n",
       "        [0.        ],\n",
       "        [0.        ],\n",
       "        [0.        ],\n",
       "        [0.        ],\n",
       "        [0.        ],\n",
       "        [0.        ],\n",
       "        [0.        ],\n",
       "        [0.        ],\n",
       "        [0.        ],\n",
       "        [0.00784314],\n",
       "        [0.        ],\n",
       "        [0.04313726],\n",
       "        [0.5372549 ],\n",
       "        [0.50980395],\n",
       "        [0.5019608 ],\n",
       "        [0.627451  ],\n",
       "        [0.6901961 ],\n",
       "        [0.62352943],\n",
       "        [0.654902  ],\n",
       "        [0.69803923],\n",
       "        [0.58431375],\n",
       "        [0.5921569 ],\n",
       "        [0.5647059 ],\n",
       "        [0.        ],\n",
       "        [0.        ]],\n",
       "\n",
       "       [[0.        ],\n",
       "        [0.        ],\n",
       "        [0.        ],\n",
       "        [0.        ],\n",
       "        [0.        ],\n",
       "        [0.        ],\n",
       "        [0.00392157],\n",
       "        [0.        ],\n",
       "        [0.00784314],\n",
       "        [0.00392157],\n",
       "        [0.        ],\n",
       "        [0.01176471],\n",
       "        [0.        ],\n",
       "        [0.        ],\n",
       "        [0.4509804 ],\n",
       "        [0.44705883],\n",
       "        [0.41568628],\n",
       "        [0.5372549 ],\n",
       "        [0.65882355],\n",
       "        [0.6       ],\n",
       "        [0.6117647 ],\n",
       "        [0.64705884],\n",
       "        [0.654902  ],\n",
       "        [0.56078434],\n",
       "        [0.6156863 ],\n",
       "        [0.61960787],\n",
       "        [0.04313726],\n",
       "        [0.        ]],\n",
       "\n",
       "       [[0.        ],\n",
       "        [0.        ],\n",
       "        [0.        ],\n",
       "        [0.        ],\n",
       "        [0.00392157],\n",
       "        [0.        ],\n",
       "        [0.        ],\n",
       "        [0.        ],\n",
       "        [0.        ],\n",
       "        [0.        ],\n",
       "        [0.01176471],\n",
       "        [0.        ],\n",
       "        [0.        ],\n",
       "        [0.34901962],\n",
       "        [0.54509807],\n",
       "        [0.3529412 ],\n",
       "        [0.36862746],\n",
       "        [0.6       ],\n",
       "        [0.58431375],\n",
       "        [0.5137255 ],\n",
       "        [0.5921569 ],\n",
       "        [0.6627451 ],\n",
       "        [0.6745098 ],\n",
       "        [0.56078434],\n",
       "        [0.62352943],\n",
       "        [0.6627451 ],\n",
       "        [0.1882353 ],\n",
       "        [0.        ]],\n",
       "\n",
       "       [[0.        ],\n",
       "        [0.        ],\n",
       "        [0.        ],\n",
       "        [0.        ],\n",
       "        [0.        ],\n",
       "        [0.        ],\n",
       "        [0.00784314],\n",
       "        [0.01568628],\n",
       "        [0.00392157],\n",
       "        [0.        ],\n",
       "        [0.        ],\n",
       "        [0.        ],\n",
       "        [0.38431373],\n",
       "        [0.53333336],\n",
       "        [0.43137255],\n",
       "        [0.42745098],\n",
       "        [0.43137255],\n",
       "        [0.63529414],\n",
       "        [0.5294118 ],\n",
       "        [0.5647059 ],\n",
       "        [0.58431375],\n",
       "        [0.62352943],\n",
       "        [0.654902  ],\n",
       "        [0.5647059 ],\n",
       "        [0.61960787],\n",
       "        [0.6627451 ],\n",
       "        [0.46666667],\n",
       "        [0.        ]],\n",
       "\n",
       "       [[0.        ],\n",
       "        [0.        ],\n",
       "        [0.00784314],\n",
       "        [0.00784314],\n",
       "        [0.00392157],\n",
       "        [0.00784314],\n",
       "        [0.        ],\n",
       "        [0.        ],\n",
       "        [0.        ],\n",
       "        [0.        ],\n",
       "        [0.10196079],\n",
       "        [0.42352942],\n",
       "        [0.45882353],\n",
       "        [0.3882353 ],\n",
       "        [0.43529412],\n",
       "        [0.45882353],\n",
       "        [0.53333336],\n",
       "        [0.6117647 ],\n",
       "        [0.5254902 ],\n",
       "        [0.6039216 ],\n",
       "        [0.6039216 ],\n",
       "        [0.6117647 ],\n",
       "        [0.627451  ],\n",
       "        [0.5529412 ],\n",
       "        [0.5764706 ],\n",
       "        [0.6117647 ],\n",
       "        [0.69803923],\n",
       "        [0.        ]],\n",
       "\n",
       "       [[0.01176471],\n",
       "        [0.        ],\n",
       "        [0.        ],\n",
       "        [0.        ],\n",
       "        [0.        ],\n",
       "        [0.        ],\n",
       "        [0.        ],\n",
       "        [0.08235294],\n",
       "        [0.20784314],\n",
       "        [0.36078432],\n",
       "        [0.45882353],\n",
       "        [0.43529412],\n",
       "        [0.40392157],\n",
       "        [0.4509804 ],\n",
       "        [0.5058824 ],\n",
       "        [0.5254902 ],\n",
       "        [0.56078434],\n",
       "        [0.6039216 ],\n",
       "        [0.64705884],\n",
       "        [0.6666667 ],\n",
       "        [0.6039216 ],\n",
       "        [0.5921569 ],\n",
       "        [0.6039216 ],\n",
       "        [0.56078434],\n",
       "        [0.5411765 ],\n",
       "        [0.5882353 ],\n",
       "        [0.64705884],\n",
       "        [0.16862746]],\n",
       "\n",
       "       [[0.        ],\n",
       "        [0.        ],\n",
       "        [0.09019608],\n",
       "        [0.21176471],\n",
       "        [0.25490198],\n",
       "        [0.29803923],\n",
       "        [0.33333334],\n",
       "        [0.4627451 ],\n",
       "        [0.5019608 ],\n",
       "        [0.48235294],\n",
       "        [0.43529412],\n",
       "        [0.44313726],\n",
       "        [0.4627451 ],\n",
       "        [0.49803922],\n",
       "        [0.49019608],\n",
       "        [0.54509807],\n",
       "        [0.52156866],\n",
       "        [0.53333336],\n",
       "        [0.627451  ],\n",
       "        [0.54901963],\n",
       "        [0.60784316],\n",
       "        [0.6313726 ],\n",
       "        [0.5647059 ],\n",
       "        [0.60784316],\n",
       "        [0.6745098 ],\n",
       "        [0.6313726 ],\n",
       "        [0.7411765 ],\n",
       "        [0.24313726]],\n",
       "\n",
       "       [[0.        ],\n",
       "        [0.26666668],\n",
       "        [0.36862746],\n",
       "        [0.3529412 ],\n",
       "        [0.43529412],\n",
       "        [0.44705883],\n",
       "        [0.43529412],\n",
       "        [0.44705883],\n",
       "        [0.4509804 ],\n",
       "        [0.49803922],\n",
       "        [0.5294118 ],\n",
       "        [0.53333336],\n",
       "        [0.56078434],\n",
       "        [0.49411765],\n",
       "        [0.49803922],\n",
       "        [0.5921569 ],\n",
       "        [0.6039216 ],\n",
       "        [0.56078434],\n",
       "        [0.5803922 ],\n",
       "        [0.49019608],\n",
       "        [0.63529414],\n",
       "        [0.63529414],\n",
       "        [0.5647059 ],\n",
       "        [0.5411765 ],\n",
       "        [0.6       ],\n",
       "        [0.63529414],\n",
       "        [0.76862746],\n",
       "        [0.22745098]],\n",
       "\n",
       "       [[0.27450982],\n",
       "        [0.6627451 ],\n",
       "        [0.5058824 ],\n",
       "        [0.40784314],\n",
       "        [0.38431373],\n",
       "        [0.39215687],\n",
       "        [0.36862746],\n",
       "        [0.38039216],\n",
       "        [0.38431373],\n",
       "        [0.4       ],\n",
       "        [0.42352942],\n",
       "        [0.41568628],\n",
       "        [0.46666667],\n",
       "        [0.47058824],\n",
       "        [0.5058824 ],\n",
       "        [0.58431375],\n",
       "        [0.6117647 ],\n",
       "        [0.654902  ],\n",
       "        [0.74509805],\n",
       "        [0.74509805],\n",
       "        [0.76862746],\n",
       "        [0.7764706 ],\n",
       "        [0.7764706 ],\n",
       "        [0.73333335],\n",
       "        [0.77254903],\n",
       "        [0.7411765 ],\n",
       "        [0.72156864],\n",
       "        [0.14117648]],\n",
       "\n",
       "       [[0.0627451 ],\n",
       "        [0.49411765],\n",
       "        [0.67058825],\n",
       "        [0.7372549 ],\n",
       "        [0.7372549 ],\n",
       "        [0.72156864],\n",
       "        [0.67058825],\n",
       "        [0.6       ],\n",
       "        [0.5294118 ],\n",
       "        [0.47058824],\n",
       "        [0.49411765],\n",
       "        [0.49803922],\n",
       "        [0.57254905],\n",
       "        [0.7254902 ],\n",
       "        [0.7647059 ],\n",
       "        [0.81960785],\n",
       "        [0.8156863 ],\n",
       "        [1.        ],\n",
       "        [0.81960785],\n",
       "        [0.69411767],\n",
       "        [0.9607843 ],\n",
       "        [0.9882353 ],\n",
       "        [0.9843137 ],\n",
       "        [0.9843137 ],\n",
       "        [0.96862745],\n",
       "        [0.8627451 ],\n",
       "        [0.80784315],\n",
       "        [0.19215687]],\n",
       "\n",
       "       [[0.        ],\n",
       "        [0.        ],\n",
       "        [0.        ],\n",
       "        [0.04705882],\n",
       "        [0.2627451 ],\n",
       "        [0.41568628],\n",
       "        [0.6431373 ],\n",
       "        [0.7254902 ],\n",
       "        [0.78039217],\n",
       "        [0.8235294 ],\n",
       "        [0.827451  ],\n",
       "        [0.8235294 ],\n",
       "        [0.8156863 ],\n",
       "        [0.74509805],\n",
       "        [0.5882353 ],\n",
       "        [0.32156864],\n",
       "        [0.03137255],\n",
       "        [0.        ],\n",
       "        [0.        ],\n",
       "        [0.        ],\n",
       "        [0.69803923],\n",
       "        [0.8156863 ],\n",
       "        [0.7372549 ],\n",
       "        [0.6862745 ],\n",
       "        [0.63529414],\n",
       "        [0.61960787],\n",
       "        [0.5921569 ],\n",
       "        [0.04313726]],\n",
       "\n",
       "       [[0.        ],\n",
       "        [0.        ],\n",
       "        [0.        ],\n",
       "        [0.        ],\n",
       "        [0.        ],\n",
       "        [0.        ],\n",
       "        [0.        ],\n",
       "        [0.        ],\n",
       "        [0.        ],\n",
       "        [0.        ],\n",
       "        [0.        ],\n",
       "        [0.        ],\n",
       "        [0.        ],\n",
       "        [0.        ],\n",
       "        [0.        ],\n",
       "        [0.        ],\n",
       "        [0.        ],\n",
       "        [0.        ],\n",
       "        [0.        ],\n",
       "        [0.        ],\n",
       "        [0.        ],\n",
       "        [0.        ],\n",
       "        [0.        ],\n",
       "        [0.        ],\n",
       "        [0.        ],\n",
       "        [0.        ],\n",
       "        [0.        ],\n",
       "        [0.        ]],\n",
       "\n",
       "       [[0.        ],\n",
       "        [0.        ],\n",
       "        [0.        ],\n",
       "        [0.        ],\n",
       "        [0.        ],\n",
       "        [0.        ],\n",
       "        [0.        ],\n",
       "        [0.        ],\n",
       "        [0.        ],\n",
       "        [0.        ],\n",
       "        [0.        ],\n",
       "        [0.        ],\n",
       "        [0.        ],\n",
       "        [0.        ],\n",
       "        [0.        ],\n",
       "        [0.        ],\n",
       "        [0.        ],\n",
       "        [0.        ],\n",
       "        [0.        ],\n",
       "        [0.        ],\n",
       "        [0.        ],\n",
       "        [0.        ],\n",
       "        [0.        ],\n",
       "        [0.        ],\n",
       "        [0.        ],\n",
       "        [0.        ],\n",
       "        [0.        ],\n",
       "        [0.        ]],\n",
       "\n",
       "       [[0.        ],\n",
       "        [0.        ],\n",
       "        [0.        ],\n",
       "        [0.        ],\n",
       "        [0.        ],\n",
       "        [0.        ],\n",
       "        [0.        ],\n",
       "        [0.        ],\n",
       "        [0.        ],\n",
       "        [0.        ],\n",
       "        [0.        ],\n",
       "        [0.        ],\n",
       "        [0.        ],\n",
       "        [0.        ],\n",
       "        [0.        ],\n",
       "        [0.        ],\n",
       "        [0.        ],\n",
       "        [0.        ],\n",
       "        [0.        ],\n",
       "        [0.        ],\n",
       "        [0.        ],\n",
       "        [0.        ],\n",
       "        [0.        ],\n",
       "        [0.        ],\n",
       "        [0.        ],\n",
       "        [0.        ],\n",
       "        [0.        ],\n",
       "        [0.        ]],\n",
       "\n",
       "       [[0.        ],\n",
       "        [0.        ],\n",
       "        [0.        ],\n",
       "        [0.        ],\n",
       "        [0.        ],\n",
       "        [0.        ],\n",
       "        [0.        ],\n",
       "        [0.        ],\n",
       "        [0.        ],\n",
       "        [0.        ],\n",
       "        [0.        ],\n",
       "        [0.        ],\n",
       "        [0.        ],\n",
       "        [0.        ],\n",
       "        [0.        ],\n",
       "        [0.        ],\n",
       "        [0.        ],\n",
       "        [0.        ],\n",
       "        [0.        ],\n",
       "        [0.        ],\n",
       "        [0.        ],\n",
       "        [0.        ],\n",
       "        [0.        ],\n",
       "        [0.        ],\n",
       "        [0.        ],\n",
       "        [0.        ],\n",
       "        [0.        ],\n",
       "        [0.        ]],\n",
       "\n",
       "       [[0.        ],\n",
       "        [0.        ],\n",
       "        [0.        ],\n",
       "        [0.        ],\n",
       "        [0.        ],\n",
       "        [0.        ],\n",
       "        [0.        ],\n",
       "        [0.        ],\n",
       "        [0.        ],\n",
       "        [0.        ],\n",
       "        [0.        ],\n",
       "        [0.        ],\n",
       "        [0.        ],\n",
       "        [0.        ],\n",
       "        [0.        ],\n",
       "        [0.        ],\n",
       "        [0.        ],\n",
       "        [0.        ],\n",
       "        [0.        ],\n",
       "        [0.        ],\n",
       "        [0.        ],\n",
       "        [0.        ],\n",
       "        [0.        ],\n",
       "        [0.        ],\n",
       "        [0.        ],\n",
       "        [0.        ],\n",
       "        [0.        ],\n",
       "        [0.        ]],\n",
       "\n",
       "       [[0.        ],\n",
       "        [0.        ],\n",
       "        [0.        ],\n",
       "        [0.        ],\n",
       "        [0.        ],\n",
       "        [0.        ],\n",
       "        [0.        ],\n",
       "        [0.        ],\n",
       "        [0.        ],\n",
       "        [0.        ],\n",
       "        [0.        ],\n",
       "        [0.        ],\n",
       "        [0.        ],\n",
       "        [0.        ],\n",
       "        [0.        ],\n",
       "        [0.        ],\n",
       "        [0.        ],\n",
       "        [0.        ],\n",
       "        [0.        ],\n",
       "        [0.        ],\n",
       "        [0.        ],\n",
       "        [0.        ],\n",
       "        [0.        ],\n",
       "        [0.        ],\n",
       "        [0.        ],\n",
       "        [0.        ],\n",
       "        [0.        ],\n",
       "        [0.        ]]], dtype=float32)"
      ]
     },
     "execution_count": 46,
     "metadata": {},
     "output_type": "execute_result"
    }
   ],
   "source": [
    "X_test_s[0]"
   ]
  },
  {
   "cell_type": "code",
   "execution_count": 47,
   "metadata": {},
   "outputs": [
    {
     "data": {
      "image/png": "[encoded data removed]",
      "text/plain": [
       "<Figure size 640x480 with 1 Axes>"
      ]
     },
     "metadata": {},
     "output_type": "display_data"
    }
   ],
   "source": [
    "plt.imshow(X_test_s[0])\n",
    "plt.show()"
   ]
  },
  {
   "cell_type": "code",
   "execution_count": 48,
   "metadata": {},
   "outputs": [
    {
     "data": {
      "text/plain": [
       "9"
      ]
     },
     "execution_count": 48,
     "metadata": {},
     "output_type": "execute_result"
    }
   ],
   "source": [
    "y_test[0]"
   ]
  },
  {
   "cell_type": "code",
   "execution_count": 49,
   "metadata": {},
   "outputs": [
    {
     "data": {
      "text/plain": [
       "'Ankle boot'"
      ]
     },
     "execution_count": 49,
     "metadata": {},
     "output_type": "execute_result"
    }
   ],
   "source": [
    "classes[y_test[0]]"
   ]
  },
  {
   "cell_type": "code",
   "execution_count": 50,
   "metadata": {},
   "outputs": [],
   "source": [
    "X_predict = X_test_s[0]"
   ]
  },
  {
   "cell_type": "code",
   "execution_count": 51,
   "metadata": {},
   "outputs": [
    {
     "data": {
      "text/plain": [
       "(28, 28, 1)"
      ]
     },
     "execution_count": 51,
     "metadata": {},
     "output_type": "execute_result"
    }
   ],
   "source": [
    "X_test_s[0].shape"
   ]
  },
  {
   "cell_type": "code",
   "execution_count": 52,
   "metadata": {},
   "outputs": [
    {
     "data": {
      "text/plain": [
       "(28, 28, 1)"
      ]
     },
     "execution_count": 52,
     "metadata": {},
     "output_type": "execute_result"
    }
   ],
   "source": [
    "X_train_s[0].shape"
   ]
  },
  {
   "cell_type": "code",
   "execution_count": 53,
   "metadata": {},
   "outputs": [
    {
     "data": {
      "text/plain": [
       "(10000, 10)"
      ]
     },
     "execution_count": 53,
     "metadata": {},
     "output_type": "execute_result"
    }
   ],
   "source": [
    "y_test_c.shape"
   ]
  },
  {
   "cell_type": "code",
   "execution_count": 54,
   "metadata": {},
   "outputs": [
    {
     "name": "stdout",
     "output_type": "stream",
     "text": [
      "1/1 [==============================] - 0s 51ms/step\n"
     ]
    },
    {
     "data": {
      "text/plain": [
       "array([[1.7260812e-28, 3.6878468e-29, 1.1133750e-21, 5.1943541e-36,\n",
       "        9.0299772e-23, 5.4464155e-15, 6.4879033e-27, 7.7352342e-19,\n",
       "        9.8305236e-22, 1.0000000e+00]], dtype=float32)"
      ]
     },
     "execution_count": 54,
     "metadata": {},
     "output_type": "execute_result"
    }
   ],
   "source": [
    "predicted_value = model.predict(np.expand_dims(X_test_s[0], 0))\n",
    "predicted_value"
   ]
  },
  {
   "cell_type": "code",
   "execution_count": 55,
   "metadata": {},
   "outputs": [
    {
     "data": {
      "text/plain": [
       "9"
      ]
     },
     "execution_count": 55,
     "metadata": {},
     "output_type": "execute_result"
    }
   ],
   "source": [
    "np.argmax(predicted_value)"
   ]
  },
  {
   "cell_type": "code",
   "execution_count": 56,
   "metadata": {},
   "outputs": [
    {
     "name": "stdout",
     "output_type": "stream",
     "text": [
      "Predicted value is :  Ankle boot \n",
      "Real value is: Ankle boot\n"
     ]
    },
    {
     "data": {
      "image/png": "[encoded data removed]",
      "text/plain": [
       "<Figure size 640x480 with 1 Axes>"
      ]
     },
     "metadata": {},
     "output_type": "display_data"
    }
   ],
   "source": [
    "print('Predicted value is : ', classes[np.argmax(predicted_value)],\n",
    "      '\\nReal value is:', classes[y_test[0]])\n",
    "plt.imshow(X_test_s[0]);"
   ]
  },
  {
   "cell_type": "markdown",
   "metadata": {},
   "source": [
    "# End of Assignment"
   ]
  },
  {
   "cell_type": "markdown",
   "metadata": {},
   "source": [
    "___\n",
    "\n",
    "<p style=\"text-align: center;\"><img src=\"https://docs.google.com/uc?id=1lY0Uj5R04yMY3-ZppPWxqCr5pvBLYPnV\" class=\"img-fluid\" alt=\"CLRSWY\"></p>\n",
    "\n",
    "___"
   ]
  }
 ],
 "metadata": {
  "kernelspec": {
   "display_name": "Python 3 (ipykernel)",
   "language": "python",
   "name": "python3"
  },
  "language_info": {
   "codemirror_mode": {
    "name": "ipython",
    "version": 3
   },
   "file_extension": ".py",
   "mimetype": "text/x-python",
   "name": "python",
   "nbconvert_exporter": "python",
   "pygments_lexer": "ipython3",
   "version": "3.11.4"
  },
  "toc": {
   "base_numbering": 1,
   "nav_menu": {},
   "number_sections": false,
   "sideBar": true,
   "skip_h1_title": false,
   "title_cell": "Table of Contents",
   "title_sidebar": "Contents",
   "toc_cell": false,
   "toc_position": {},
   "toc_section_display": true,
   "toc_window_display": true
  }
 },
 "nbformat": 4,
 "nbformat_minor": 2
}
